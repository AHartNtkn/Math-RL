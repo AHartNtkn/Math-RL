{
 "cells": [
  {
   "cell_type": "code",
   "execution_count": 16,
   "metadata": {},
   "outputs": [],
   "source": [
    "from networkx import DiGraph, find_cycle, NetworkXNoCycle, ancestors\n",
    "import types\n",
    "from functools import reduce\n",
    "from unification import unify, reify, variable, Var"
   ]
  },
  {
   "cell_type": "code",
   "execution_count": 17,
   "metadata": {},
   "outputs": [],
   "source": [
    "# Add comparison method to the Var class so that variables can be sorted.\n",
    "class Var(Var):\n",
    "    def __lt__(self, y):\n",
    "        if type(y) == Var:\n",
    "            return self.token < y.token\n",
    "        else:\n",
    "            return NotImplemented"
   ]
  },
  {
   "cell_type": "code",
   "execution_count": 114,
   "metadata": {},
   "outputs": [],
   "source": [
    "def expVars(e):\n",
    "    \"\"\" Get all the variables in a tuple expression.\n",
    "        Usage example:\n",
    "            expVars(('imp', A(3), ('imp', B(1), C(0))))\n",
    "        \n",
    "        Output:\n",
    "            {~A3, ~B1, ~C0}\n",
    "    \"\"\"\n",
    "    if type(e) == tuple:\n",
    "        return set.union(*map(expVars, e))\n",
    "    elif type(e) == Var:\n",
    "        return set([e])\n",
    "    else:\n",
    "        return set()\n",
    "\n",
    "def substitutionGraph(s):\n",
    "    \"\"\" Generate a digraph from a substitution, s.\n",
    "    \"\"\"\n",
    "    g = DiGraph()\n",
    "    g.add_edges_from(\n",
    "        [ (s, t)\n",
    "          for s, ts in zip(s.keys(), map(expVars, s.values()))\n",
    "          for t in ts ] )\n",
    "    return g\n",
    "\n",
    "def directPairs(g):\n",
    "    \"\"\" Gives the collection of pairs, (n, x), such that there's\n",
    "        a chain of edges from n to x.\n",
    "        \n",
    "        Note: There's definitely a more efficient implementation, but\n",
    "        I'm not sure if it's worth it.\n",
    "    \"\"\"\n",
    "    return [ (n, x) for n in g.nodes for x in ancestors(g, n) ]"
   ]
  },
  {
   "cell_type": "code",
   "execution_count": 125,
   "metadata": {},
   "outputs": [],
   "source": [
    "def unorderedPairs(vs):\n",
    "    \"\"\" Take a list of things, and separate it into\n",
    "        a list of distinct pairs.\n",
    "        \n",
    "        Example:\n",
    "            unorderedPairs(['b', 'a', 'c'])\n",
    "            \n",
    "        Output:\n",
    "            [('a', 'b'), ('a', 'c'), ('b', 'c')]\n",
    "    \"\"\"\n",
    "    vs.sort()\n",
    "    return [ (vs[i], x) for i in range(len(vs)-1) for x in vs[i+1:] ]\n",
    "\n",
    "def DVSCGen(x):\n",
    "    \"\"\" Given a list of lists of variables, this will generate valid \n",
    "        distinct variable side conditions to be used in a Rule.\n",
    "        \n",
    "        Example:\n",
    "            DVSCGen([[Var('A'), Var('x')], [Var('B'), Var('x'), Var('y')]])\n",
    "        \n",
    "        Output:\n",
    "            {(~A, ~x), (~B, ~x), (~B, ~y), (~x, ~y)}\n",
    "    \"\"\"\n",
    "    return { p for l in map(unorderedPairs, x) for p in l }\n",
    "\n",
    "def DVSCUpdate(d, s):\n",
    "    \"\"\" Given a substitution rule, update a list of distinct variable\n",
    "        side conditions. If the distinction condition is violated,\n",
    "        this function returns False.\n",
    "        \n",
    "        Example usage 1:\n",
    "            DVSCUpdate(\n",
    "                {(~B0, ~x), (~B0, ~y), (~P, ~x), (~x, ~y)},\n",
    "                {~P: ('mp', ~A0, ~B0, ~P0, ~Q0), ~B0: ('imp', 'phi', 'phi')}\n",
    "                )\n",
    "        Output:\n",
    "            {(~A0, ~x), (~P0, ~x), (~Q0, ~x), (~x, ~y)}\n",
    "            \n",
    "        Example usage 2:\n",
    "            DVSCUpdate(\n",
    "                {(~A0, ~P), (~B0, ~x), (~B0, ~y), (~x, ~y)},\n",
    "                {~P: ('mp', ~A0, ~B0, ~P0, ~Q0), ~B0: ('imp', 'phi', 'phi')}\n",
    "                )\n",
    "        \n",
    "        Output:\n",
    "            False\n",
    "    \"\"\"\n",
    "\n",
    "    # Get pairs of sets of variables following substitution.\n",
    "    varSets = [ (expVars(a), expVars(b)) for a, b in reify(list(d), s) ]\n",
    "\n",
    "    # Test if distinctness condition is violated.\n",
    "    # If two variables are distinct, then the sets of variables within\n",
    "    # the result of substitution should have an empty intersection.\n",
    "    if any([set.intersection(*p) for p in varSets]):\n",
    "        return False\n",
    "\n",
    "    # Split the pairs of sets into a set of pairs.\n",
    "    return { (a, b) if a < b else (b, a) for v in varSets for a in v[0] for b in v[1] }\n"
   ]
  },
  {
   "cell_type": "code",
   "execution_count": 22,
   "metadata": {},
   "outputs": [],
   "source": [
    "class Rule():\n",
    "    \"\"\" Defines a rule, consisting of a single consequent\n",
    "        and a list of hypotheses which imply this consequent.\n",
    "       \n",
    "        A theorem is a rule with an empty list of hypotheses.\n",
    "        \n",
    "        DVSC Represents the distinct variable side conditions,\n",
    "        if they exist, as a list of sorted, ordered pairs.\n",
    "    \"\"\"\n",
    "    \n",
    "    def __init__(self, hypotheses, consequent, DVSC = set()):\n",
    "        self.hypotheses = hypotheses\n",
    "        self.consequent = consequent\n",
    "        self.DVSC = DVSC"
   ]
  },
  {
   "cell_type": "markdown",
   "metadata": {},
   "source": [
    "IntImpTheory"
   ]
  },
  {
   "cell_type": "code",
   "execution_count": 23,
   "metadata": {},
   "outputs": [],
   "source": [
    "def A(x):\n",
    "    \"\"\" Generate a variable 'Ax'\n",
    "    \"\"\"\n",
    "\n",
    "    return Var( 'A' + str(x) )\n",
    "\n",
    "def B(x):\n",
    "    \"\"\" Generate a variable 'Bx'\n",
    "    \"\"\"\n",
    "\n",
    "    return Var( 'B' + str(x) )\n",
    "\n",
    "def C(x):\n",
    "    \"\"\" Generate a variable 'Cx'\n",
    "    \"\"\"\n",
    "\n",
    "    return Var( 'C' + str(x) )\n",
    "\n",
    "def imp(x, y):\n",
    "    return ('imp', x, y)\n",
    "\n",
    "class IntImpTheory:\n",
    "    \"\"\" Defines a basic theory of the intuitionistic\n",
    "        implicational calculus.\n",
    "       \n",
    "        This theory has three rules:\n",
    "       \n",
    "        the axiom of simplification:\n",
    "            a => (b => a)\n",
    "            \n",
    "        the axiom of frege:\n",
    "            (a => (b => c)) => ((a => b) => (a => c))\n",
    "        \n",
    "        and modus ponens:\n",
    "            a\n",
    "            a => b\n",
    "            ------\n",
    "            b\n",
    "           \n",
    "        along with facilities for making their appropriate\n",
    "        patterns, compatible with unification.\n",
    "    \"\"\"\n",
    "    \n",
    "    def __init__(self):\n",
    "        self.freshCounter = 0\n",
    "        self.rules = {'simplification': self.simplification,\n",
    "                      'frege': self.frege,\n",
    "                      'modusPonens': self.modusPonens\n",
    "                     }\n",
    "        \n",
    "    def simplification(self):\n",
    "        i = self.freshCounter\n",
    "        self.freshCounter += 1\n",
    "        \n",
    "        return Rule([],\n",
    "                    imp(A(i), imp(B(i), A(i))) )\n",
    "        \n",
    "    def frege(self):\n",
    "        i = self.freshCounter\n",
    "        self.freshCounter += 1\n",
    "        \n",
    "        return Rule([],\n",
    "                    imp(imp(A(i), imp(B(i), C(i))),\n",
    "                        imp(imp(A(i), B(i)),\n",
    "                            imp(A(i), C(i)))) )\n",
    "        \n",
    "    def modusPonens(self):\n",
    "        i = self.freshCounter\n",
    "        self.freshCounter += 1\n",
    "        \n",
    "        return Rule([ A(i), imp(A(i), B(i)) ],\n",
    "                      B(i) )\n"
   ]
  },
  {
   "cell_type": "markdown",
   "metadata": {},
   "source": [
    "IntImpProofTheory"
   ]
  },
  {
   "cell_type": "code",
   "execution_count": 24,
   "metadata": {
    "jupyter": {
     "source_hidden": true
    }
   },
   "outputs": [],
   "source": [
    "def A(x):\n",
    "    \"\"\" Generate a variable 'Ax'\n",
    "    \"\"\"\n",
    "\n",
    "    return Var( 'A' + str(x) )\n",
    "\n",
    "def B(x):\n",
    "    \"\"\" Generate a variable 'Bx'\n",
    "    \"\"\"\n",
    "\n",
    "    return Var( 'B' + str(x) )\n",
    "\n",
    "def C(x):\n",
    "    \"\"\" Generate a variable 'Cx'\n",
    "    \"\"\"\n",
    "\n",
    "    return Var( 'C' + str(x) )\n",
    "\n",
    "def P(x):\n",
    "    \"\"\" Generate a variable 'Px'\n",
    "    \"\"\"\n",
    "\n",
    "    return Var( 'P' + str(x) )\n",
    "\n",
    "def Q(x):\n",
    "    \"\"\" Generate a variable 'Qx'\n",
    "    \"\"\"\n",
    "\n",
    "    return Var( 'Q' + str(x) )\n",
    "\n",
    "def imp(x, y):\n",
    "    return ('imp', x, y)\n",
    "\n",
    "def proof(x, y):\n",
    "    return ('proof', x, y)\n",
    "\n",
    "def wff(x):\n",
    "    return ('wff', x)\n",
    "\n",
    "def simp(a, b):\n",
    "    return ('simp', a, b)\n",
    "\n",
    "def frege(a, b, c):\n",
    "    return ('frege', a, b, c)\n",
    "\n",
    "def mp(a, b, p1, p2):\n",
    "    return ('mp', a, b, p1, p2)\n",
    "\n",
    "class IntImpProofTheory:\n",
    "    \"\"\" Defines a basic theory of the intuitionistic\n",
    "        implicational calculus which also keeps track\n",
    "        of proof terms.\n",
    "       \n",
    "        This theory has three rules:\n",
    "       \n",
    "        the axiom of simplification:\n",
    "            a => (b => a)\n",
    "            \n",
    "        the axiom of frege:\n",
    "            (a => (b => c)) => ((a => b) => (a => c))\n",
    "        \n",
    "        and modus ponens:\n",
    "            a\n",
    "            a => b\n",
    "            ------\n",
    "            b\n",
    "           \n",
    "        along with facilities for making their appropriate\n",
    "        patterns, compatible with unification.\n",
    "    \"\"\"\n",
    "\n",
    "    def __init__(self):\n",
    "        self.freshCounter = 0\n",
    "        self.rules = {\n",
    "                      'phiWff': self.phiWff,\n",
    "                      'psiWff': self.psiWff,\n",
    "                      'chiWff': self.chiWff,\n",
    "                      'thetaWff': self.thetaWff,\n",
    "                      'zetaWff': self.thetaWff,\n",
    "                      'etaWff': self.thetaWff,\n",
    "                      'impWff': self.impWff,\n",
    "                      'simplification': self.simplification,\n",
    "                      'frege': self.frege,\n",
    "                      'modusPonens': self.modusPonens\n",
    "                     }\n",
    "\n",
    "    def phiWff(self):\n",
    "        return Rule([], wff('phi'))\n",
    "\n",
    "    def psiWff(self):\n",
    "        return Rule([], wff('psi'))\n",
    "\n",
    "    def chiWff(self):\n",
    "        return Rule([], wff('chi'))\n",
    "\n",
    "    def thetaWff(self):\n",
    "        return Rule([], wff('theta'))\n",
    "\n",
    "    def zetaWff(self):\n",
    "        return Rule([], wff('zeta'))\n",
    "\n",
    "    def etaWff(self):\n",
    "        return Rule([], wff('eta'))\n",
    "\n",
    "    def impWff(self):\n",
    "        \"\"\" Syntactic rule for determininte the well-formedness of\n",
    "            an implicational formula.\n",
    "        \"\"\"\n",
    "        i = self.freshCounter\n",
    "        self.freshCounter += 1\n",
    "        \n",
    "        return Rule([ wff(A(i)), wff(B(i)) ],\n",
    "                      wff(imp(A(i), B(i))) )\n",
    "\n",
    "    def simplification(self):\n",
    "        i = self.freshCounter\n",
    "        self.freshCounter += 1\n",
    "        \n",
    "        return Rule([ wff(A(i)), wff(B(i)) ],\n",
    "                      proof(simp(A(i), B(i)), imp(A(i), imp(B(i), A(i))) ) )\n",
    "\n",
    "    def frege(self):\n",
    "        i = self.freshCounter\n",
    "        self.freshCounter += 1\n",
    "        \n",
    "        return Rule([ wff(A(i)), wff(B(i)), wff(C(i)) ],\n",
    "                      proof(frege(A(i), B(i), C(i)),\n",
    "                            imp(imp(A(i), imp(B(i), C(i))),\n",
    "                                imp(imp(A(i), B(i)), imp(A(i), C(i)))) ) )\n",
    "\n",
    "    def modusPonens(self):\n",
    "        i = self.freshCounter\n",
    "        self.freshCounter += 1\n",
    "        \n",
    "        return Rule([ wff(A(i)),\n",
    "                      wff(B(i)),\n",
    "                      proof(P(i), A(i)),\n",
    "                      proof(Q(i), imp(A(i), B(i))) ],\n",
    "                      proof(mp(A(i), B(i), P(i), Q(i)), B(i)) )\n"
   ]
  },
  {
   "cell_type": "markdown",
   "metadata": {},
   "source": [
    "LambdaTheory"
   ]
  },
  {
   "cell_type": "code",
   "execution_count": null,
   "metadata": {
    "jupyter": {
     "source_hidden": true
    }
   },
   "outputs": [],
   "source": [
    "# Old version with explicit variables.\n",
    "\n",
    "def x(i):\n",
    "    \"\"\" Generate a variable 'xi'\n",
    "    \"\"\"\n",
    "\n",
    "    return Var( 'x' + str(i) )\n",
    "\n",
    "def y(x):\n",
    "    \"\"\" Generate a variable 'yx'\n",
    "    \"\"\"\n",
    "\n",
    "    return Var( 'y' + str(x) )\n",
    "\n",
    "def A(x):\n",
    "    \"\"\" Generate a variable 'Ax'\n",
    "    \"\"\"\n",
    "\n",
    "    return Var( 'A' + str(x) )\n",
    "\n",
    "def B(x):\n",
    "    \"\"\" Generate a variable 'Bx'\n",
    "    \"\"\"\n",
    "\n",
    "    return Var( 'B' + str(x) )\n",
    "\n",
    "def C(x):\n",
    "    \"\"\" Generate a variable 'Cx'\n",
    "    \"\"\"\n",
    "\n",
    "    return Var( 'C' + str(x) )\n",
    "\n",
    "\n",
    "def D(x):\n",
    "    \"\"\" Generate a variable 'Dx'\n",
    "    \"\"\"\n",
    "\n",
    "    return Var( 'D' + str(x) )\n",
    "\n",
    "def P(x):\n",
    "    \"\"\" Generate a variable 'Px'\n",
    "    \"\"\"\n",
    "\n",
    "    return Var( 'P' + str(x) )\n",
    "\n",
    "def Q(x):\n",
    "    \"\"\" Generate a variable 'Qx'\n",
    "    \"\"\"\n",
    "\n",
    "    return Var( 'Q' + str(x) )\n",
    "\n",
    "def lam(x, y):\n",
    "    return ('lam', x, y)\n",
    "\n",
    "def app(x, y):\n",
    "    return ('app', x, y)\n",
    "\n",
    "def eq(x, y):\n",
    "    return ('eq', x, y)\n",
    "\n",
    "def ev(x):\n",
    "    return ('ev', x)\n",
    "\n",
    "def exp(a):\n",
    "    return ('exp', a)\n",
    "\n",
    "class LambdaTheory:\n",
    "    \"\"\" A basic theory defining the evaluation of lambda\n",
    "        expressions. Mainly used for testing distrinct\n",
    "        variable side-conditions.\n",
    "    \"\"\"\n",
    "\n",
    "    def __init__(self):\n",
    "        self.freshCounter = 0\n",
    "        self.rules = {\n",
    "                      'varExp': self.varExp,\n",
    "                      'xEv': self.xEv,\n",
    "                      'yEv': self.yEv,\n",
    "                      'zEv': self.zEv,\n",
    "                      'uEv': self.uEv,\n",
    "                      'vEv': self.vEv,\n",
    "                      'wEv': self.wEv,\n",
    "                      'XEv': self.XEv,\n",
    "                      'YEv': self.YEv,\n",
    "                      'ZEv': self.ZEv,\n",
    "                      'UEv': self.UEv,\n",
    "                      'VEv': self.VEv,\n",
    "                      'WEv': self.WEv,\n",
    "                      'lamExp': self.lamExp,\n",
    "                      'appExp': self.appExp,\n",
    "                      'transitivity': self.transitivity,\n",
    "                      'symmetry': self.symmetry,\n",
    "                      'equalityOfApplication': self.equalityOfApplication,\n",
    "                      'equalityOfLambdas': self.equalityOfLambdas,\n",
    "                      'etaEquality': self.etaEquality,\n",
    "                      'beta1': self.beta1,\n",
    "                      'beta2': self.beta2,\n",
    "                      'beta3': self.beta3,\n",
    "                      'beta4': self.beta4,\n",
    "                      'beta5': self.beta5\n",
    "                     }\n",
    "\n",
    "    def varExp(self):\n",
    "        \"\"\" An extentional variable is an expression\n",
    "        \"\"\"\n",
    "        i = self.freshCounter\n",
    "        self.freshCounter += 1\n",
    "        \n",
    "        return Rule([ ev(A(i)) ], exp(A(i)))\n",
    "\n",
    "    # Extentional variables\n",
    "    def xEv(self):\n",
    "        return Rule([], ev('x'))\n",
    "\n",
    "    def yEv(self):\n",
    "        return Rule([], ev('y'))\n",
    "\n",
    "    def zEv(self):\n",
    "        return Rule([], ev('z'))\n",
    "\n",
    "    def uEv(self):\n",
    "        return Rule([], ev('u'))\n",
    "    \n",
    "    def vEv(self):\n",
    "        return Rule([], ev('v'))\n",
    "\n",
    "    def wEv(self):\n",
    "        return Rule([], ev('w'))\n",
    "\n",
    "    # Expression Variables\n",
    "    def XEv(self):\n",
    "        return Rule([], exp('X'))\n",
    "\n",
    "    def YEv(self):\n",
    "        return Rule([], exp('Y'))\n",
    "\n",
    "    def ZEv(self):\n",
    "        return Rule([], exp('Z'))\n",
    "\n",
    "    def UEv(self):\n",
    "        return Rule([], exp('U'))\n",
    "    \n",
    "    def VEv(self):\n",
    "        return Rule([], exp('V'))\n",
    "\n",
    "    def WEv(self):\n",
    "        return Rule([], exp('W'))\n",
    "\n",
    "    # Expression syntax\n",
    "    def lamExp(self):\n",
    "        \"\"\" Syntactic rule for determininte the well-formedness of\n",
    "            a lambda expression.\n",
    "        \"\"\"\n",
    "        i = self.freshCounter\n",
    "        self.freshCounter += 1\n",
    "        \n",
    "        return Rule([ ev(x(i)), exp(B(i)) ],\n",
    "                      exp(lam(x(i), B(i))) )\n",
    "\n",
    "    def appExp(self):\n",
    "        \"\"\" Syntactic rule for determininte the well-formedness of\n",
    "            an application.\n",
    "        \"\"\"\n",
    "        i = self.freshCounter\n",
    "        self.freshCounter += 1\n",
    "        \n",
    "        return Rule([ exp(A(i)), exp(B(i)) ],\n",
    "                      exp(app(A(i), B(i))) )\n",
    "    \n",
    "    \n",
    "    # Equality Rules\n",
    "    def transitivity(self):\n",
    "        \"\"\" Transitivity of equality\n",
    "        \"\"\"\n",
    "        i = self.freshCounter\n",
    "        self.freshCounter += 1\n",
    "        \n",
    "        return Rule([ eq(A(i), B(i)), eq(B(i), C(i)) ],\n",
    "                      eq(A(i), C(i)) )\n",
    "    \n",
    "    def symmetry(self):\n",
    "        \"\"\" symmetry of equality\n",
    "        \"\"\"\n",
    "        i = self.freshCounter\n",
    "        self.freshCounter += 1\n",
    "        \n",
    "        return Rule([ eq(C(i), A(i)) ],\n",
    "                      eq(A(i), C(i)) )\n",
    "    \n",
    "    def equalityOfApplication(self):\n",
    "        \"\"\" Equality between applications\n",
    "        \"\"\"\n",
    "        i = self.freshCounter\n",
    "        self.freshCounter += 1\n",
    "        \n",
    "        return Rule([ eq(A(i), B(i)), eq(C(i), D(i)) ],\n",
    "                      eq(app(A(i), C(i)), app(B(i), D(i))) )\n",
    "    \n",
    "    def equalityOfLambdas(self):\n",
    "        \"\"\" Equality between lambda expressions.\n",
    "        \"\"\"\n",
    "        i = self.freshCounter\n",
    "        self.freshCounter += 1\n",
    "        \n",
    "        return Rule([ ev(x(i)), exp(B(i)), exp(C(i)), eq(B(i), C(i)) ],\n",
    "                      eq(lam(x(i), B(i)), lam(x(i), C(i))) )\n",
    "    \n",
    "    def etaEquality(self):\n",
    "        \"\"\" Extentional equality between expressions.\n",
    "        \"\"\"\n",
    "        i = self.freshCounter\n",
    "        self.freshCounter += 1\n",
    "        \n",
    "        return Rule([ ev(x(i)), eq(app(A(i), x(i)), app(B(i), x(i))) ],\n",
    "                      eq(A(i), B(i)),\n",
    "                      DVSCGen([[A(i), x(i)], [B(i), x(i)]])\n",
    "                    )\n",
    "    \n",
    "    # Lambda expression reduction\n",
    "    def beta1(self):\n",
    "        i = self.freshCounter\n",
    "        self.freshCounter += 1\n",
    "        \n",
    "        return Rule([ ev(x(i)), exp(B(i)) ],\n",
    "                      eq(app(lam(x(i), x(i)), B(i)), B(i)) )\n",
    "    \n",
    "    def beta2(self):\n",
    "        i = self.freshCounter\n",
    "        self.freshCounter += 1\n",
    "        \n",
    "        return Rule([ ev(x(i)), exp(B(i)), exp(C(i)) ],\n",
    "                      eq( app(lam(x(i), lam(x(i), B(i))), C(i)) , lam(x(i), B(i)))   )\n",
    "    \n",
    "    def beta3(self):\n",
    "        i = self.freshCounter\n",
    "        self.freshCounter += 1\n",
    "        \n",
    "        return Rule([ ev(x(i)), ev(y(i)), exp(B(i)), exp(C(i)) ],\n",
    "                      eq( app(lam(x(i), lam(y(i), B(i))), C(i)), lam(y(i), app(lam(x(i), B(i)), C(i))) ),\n",
    "                      DVSCGen([[x(i), y(i)]])\n",
    "                    )\n",
    "    \n",
    "    def beta4(self):\n",
    "        i = self.freshCounter\n",
    "        self.freshCounter += 1\n",
    "        \n",
    "        return Rule([ ev(x(i)), exp(A(i)), exp(B(i)), exp(C(i)) ],\n",
    "                      eq( app(lam(x(i), app(A(i), B(i))), C(i)),\n",
    "                          app(app(lam(x(i), A(i)), C(i)), app(lam(x(i), B(i)), C(i)))\n",
    "                      )\n",
    "                     )\n",
    "    \n",
    "    def beta5(self):\n",
    "        i = self.freshCounter\n",
    "        self.freshCounter += 1\n",
    "        \n",
    "        return Rule([ ev(x(i)), exp(A(i)), exp(B(i)) ],\n",
    "                      eq(app(lam(x(i), A(i)), B(i)), A(i)),\n",
    "                      DVSCGen([[x(i), A(i)]])\n",
    "                     )"
   ]
  },
  {
   "cell_type": "code",
   "execution_count": 176,
   "metadata": {
    "jupyter": {
     "source_hidden": true
    }
   },
   "outputs": [],
   "source": [
    "def x(i):\n",
    "    \"\"\" Generate a variable 'xi'\n",
    "    \"\"\"\n",
    "\n",
    "    return Var( 'x' + str(i) )\n",
    "\n",
    "def y(x):\n",
    "    \"\"\" Generate a variable 'yx'\n",
    "    \"\"\"\n",
    "\n",
    "    return Var( 'y' + str(x) )\n",
    "\n",
    "def A(x):\n",
    "    \"\"\" Generate a variable 'Ax'\n",
    "    \"\"\"\n",
    "\n",
    "    return Var( 'A' + str(x) )\n",
    "\n",
    "def B(x):\n",
    "    \"\"\" Generate a variable 'Bx'\n",
    "    \"\"\"\n",
    "\n",
    "    return Var( 'B' + str(x) )\n",
    "\n",
    "def C(x):\n",
    "    \"\"\" Generate a variable 'Cx'\n",
    "    \"\"\"\n",
    "\n",
    "    return Var( 'C' + str(x) )\n",
    "\n",
    "\n",
    "def D(x):\n",
    "    \"\"\" Generate a variable 'Dx'\n",
    "    \"\"\"\n",
    "\n",
    "    return Var( 'D' + str(x) )\n",
    "\n",
    "def P(x):\n",
    "    \"\"\" Generate a variable 'Px'\n",
    "    \"\"\"\n",
    "\n",
    "    return Var( 'P' + str(x) )\n",
    "\n",
    "def Q(x):\n",
    "    \"\"\" Generate a variable 'Qx'\n",
    "    \"\"\"\n",
    "\n",
    "    return Var( 'Q' + str(x) )\n",
    "\n",
    "def lam(x, y):\n",
    "    return ('lam', x, y)\n",
    "\n",
    "def app(x, y):\n",
    "    return ('app', x, y)\n",
    "\n",
    "def eq(x, y):\n",
    "    return ('eq', x, y)\n",
    "\n",
    "def ev(x):\n",
    "    return ('ev', x)\n",
    "\n",
    "def exp(a):\n",
    "    return ('exp', a)\n",
    "\n",
    "class LambdaTheory:\n",
    "    \"\"\" A basic theory defining the evaluation of lambda\n",
    "        expressions. Mainly used for testing distrinct\n",
    "        variable side-conditions.\n",
    "    \"\"\"\n",
    "\n",
    "    def __init__(self):\n",
    "        self.freshCounter = 0\n",
    "        self.rules = {\n",
    "                      'transitivity': self.transitivity,\n",
    "                      'symmetry': self.symmetry,\n",
    "                      'equalityOfApplication': self.equalityOfApplication,\n",
    "                      'equalityOfLambdas': self.equalityOfLambdas,\n",
    "                      'etaEquality': self.etaEquality,\n",
    "                      'beta1': self.beta1,\n",
    "                      'beta2': self.beta2,\n",
    "                      'beta3': self.beta3,\n",
    "                      'beta4': self.beta4,\n",
    "                      'beta5': self.beta5\n",
    "                     }\n",
    "\n",
    "    # Equality Rules\n",
    "    def transitivity(self):\n",
    "        \"\"\" Transitivity of equality\n",
    "        \"\"\"\n",
    "        i = self.freshCounter\n",
    "        self.freshCounter += 1\n",
    "        \n",
    "        return Rule([ eq(A(i), B(i)), eq(B(i), C(i)) ],\n",
    "                      eq(A(i), C(i)) )\n",
    "    \n",
    "    def symmetry(self):\n",
    "        \"\"\" symmetry of equality\n",
    "        \"\"\"\n",
    "        i = self.freshCounter\n",
    "        self.freshCounter += 1\n",
    "        \n",
    "        return Rule([ eq(C(i), A(i)) ],\n",
    "                      eq(A(i), C(i)) )\n",
    "    \n",
    "    def equalityOfApplication(self):\n",
    "        \"\"\" Equality between applications\n",
    "        \"\"\"\n",
    "        i = self.freshCounter\n",
    "        self.freshCounter += 1\n",
    "        \n",
    "        return Rule([ eq(A(i), B(i)), eq(C(i), D(i)) ],\n",
    "                      eq(app(A(i), C(i)), app(B(i), D(i))) )\n",
    "    \n",
    "    def equalityOfLambdas(self):\n",
    "        \"\"\" Equality between lambda expressions.\n",
    "        \"\"\"\n",
    "        i = self.freshCounter\n",
    "        self.freshCounter += 1\n",
    "        \n",
    "        return Rule([ eq(B(i), C(i)) ],\n",
    "                      eq(lam(x(i), B(i)), lam(x(i), C(i))) )\n",
    "    \n",
    "    def etaEquality(self):\n",
    "        \"\"\" Extentional equality between expressions.\n",
    "        \"\"\"\n",
    "        i = self.freshCounter\n",
    "        self.freshCounter += 1\n",
    "        \n",
    "        return Rule([ eq(app(A(i), x(i)), app(B(i), x(i))) ],\n",
    "                      eq(A(i), B(i)),\n",
    "                      DVSCGen([[A(i), x(i)], [B(i), x(i)]])\n",
    "                    )\n",
    "    \n",
    "    # Lambda expression reduction\n",
    "    def beta1(self):\n",
    "        i = self.freshCounter\n",
    "        self.freshCounter += 1\n",
    "        \n",
    "        return Rule([ ],\n",
    "                      eq(app(lam(x(i), x(i)), B(i)), B(i)) )\n",
    "    \n",
    "    def beta2(self):\n",
    "        i = self.freshCounter\n",
    "        self.freshCounter += 1\n",
    "        \n",
    "        return Rule([ ],\n",
    "                      eq( app(lam(x(i), lam(x(i), B(i))), C(i)) , lam(x(i), B(i)))   )\n",
    "    \n",
    "    def beta3(self):\n",
    "        i = self.freshCounter\n",
    "        self.freshCounter += 1\n",
    "        \n",
    "        return Rule([ ],\n",
    "                      eq( app(lam(x(i), lam(y(i), B(i))), C(i)), lam(y(i), app(lam(x(i), B(i)), C(i))) ),\n",
    "                      DVSCGen([[x(i), y(i)]])\n",
    "                    )\n",
    "    \n",
    "    def beta4(self):\n",
    "        i = self.freshCounter\n",
    "        self.freshCounter += 1\n",
    "        \n",
    "        return Rule([ ],\n",
    "                      eq( app(lam(x(i), app(A(i), B(i))), C(i)),\n",
    "                          app(app(lam(x(i), A(i)), C(i)), app(lam(x(i), B(i)), C(i)))\n",
    "                      )\n",
    "                     )\n",
    "    \n",
    "    def beta5(self):\n",
    "        i = self.freshCounter\n",
    "        self.freshCounter += 1\n",
    "        \n",
    "        return Rule([ ],\n",
    "                      eq(app(lam(x(i), A(i)), B(i)), A(i)),\n",
    "                      DVSCGen([[x(i), A(i)]])\n",
    "                     )"
   ]
  },
  {
   "cell_type": "code",
   "execution_count": 26,
   "metadata": {},
   "outputs": [],
   "source": [
    "class ProofGame:\n",
    "\n",
    "    \"\"\" Reperesents a game where the goal is to prove the\n",
    "        hypothesis in the starting state.\n",
    "    \"\"\"\n",
    "\n",
    "    def __init__(self, startingState, theory):\n",
    "        self.startingState = startingState\n",
    "        self.state = [startingState]\n",
    "        self.DVSC = set([])\n",
    "        self.theory = theory()\n",
    "        # History consists of a list of ordered triples,\n",
    "        # (state, substitutions, distinct variables)\n",
    "        self.history = []\n",
    "\n",
    "    def substitutions(self):\n",
    "        \"\"\" Get the list of substitutions from\n",
    "            the history.\n",
    "        \"\"\" \n",
    "        \n",
    "        return [ x[1] for x in self.history ]\n",
    "\n",
    "    def finalState(self):\n",
    "        \"\"\" Calculate the final state by applying\n",
    "            all the built up substitutions to the\n",
    "            starting state.\n",
    "        \"\"\"\n",
    "        \n",
    "        p = self.startingState\n",
    "        for s in self.substitutions():\n",
    "            p = reify(p, s)\n",
    "\n",
    "        return p\n",
    "\n",
    "    def currentGoal(self):\n",
    "        \"\"\" The current goal which moves will target.\n",
    "        \"\"\"\n",
    "\n",
    "        if len(self.state) > 0:\n",
    "            return self.state[-1]\n",
    "        else:\n",
    "            return False\n",
    "\n",
    "    def undo(self):\n",
    "        \"\"\" Undoes the last action.\n",
    "        \"\"\"\n",
    "\n",
    "        if len(self.history) > 0:\n",
    "            self.state, _, self.DVSC = self.history.pop()\n",
    "            return True\n",
    "        \n",
    "        return False\n",
    "\n",
    "    def rotateLeft(self):\n",
    "        \"\"\" Rotate the goal context to the left.\n",
    "        \"\"\"\n",
    "        \n",
    "        self.history.append((self.state, {}, self.DVSC))\n",
    "        self.state = self.state[1:] + self.state[:1] \n",
    "        \n",
    "        return True\n",
    "\n",
    "    def rotateRight(self):\n",
    "        \"\"\" Rotate the goal context to the right.\n",
    "        \"\"\"\n",
    "        \n",
    "        self.history.append((self.state, {}, self.DVSC))\n",
    "        self.state = self.state[-1:] + self.state[:-1] \n",
    "        \n",
    "        return True\n",
    "\n",
    "    def applyRule(self, theoryRule):\n",
    "        \"\"\" Attempts to unify the currentGoal\n",
    "            with the conclusion of the provided rule\n",
    "            and replace it with appropriately unified\n",
    "            hypotheses of said rule.\n",
    "              \n",
    "            Will return \"true\" if successful,\n",
    "            \"false\" otherwise.\n",
    "        \"\"\"\n",
    "\n",
    "        goal = self.currentGoal()\n",
    "        if goal:\n",
    "            rule = self.theory.rules[theoryRule]()\n",
    "            s = unify(goal, rule.consequent)\n",
    "            if s != False:\n",
    "                # Check for infinite loops.\n",
    "                try:\n",
    "                    find_cycle(substitutionGraph(s))\n",
    "                    \n",
    "                except NetworkXNoCycle:\n",
    "                    \n",
    "                    # Check that distinct variable side conditions\n",
    "                    # are followed\n",
    "                    newDVSC = DVSCUpdate(self.DVSC.union(rule.DVSC), s)\n",
    "                    if newDVSC == False:\n",
    "                        return False\n",
    "                    \n",
    "                    # Append old state to history.\n",
    "                    self.history.append((self.state, s, self.DVSC))\n",
    "                    \n",
    "                    # Update distinct variables.\n",
    "                    self.DVSC = newDVSC\n",
    "                    \n",
    "                    # Update state\n",
    "                    self.state.pop()\n",
    "                    self.state += rule.hypotheses\n",
    "                    self.state = list(map(lambda g: reify(g, s), self.state))\n",
    "                    \n",
    "                    return True\n",
    "        return False"
   ]
  },
  {
   "cell_type": "code",
   "execution_count": 665,
   "metadata": {},
   "outputs": [
    {
     "data": {
      "text/plain": [
       "{~A0: ~A1, ~A1: ('imp', ~B0, ~A1)}"
      ]
     },
     "execution_count": 665,
     "metadata": {},
     "output_type": "execute_result"
    }
   ],
   "source": [
    "unify(('imp', A(0), A(0)), ('imp', A(1), ('imp', B(0), A(1))))"
   ]
  },
  {
   "cell_type": "code",
   "execution_count": 205,
   "metadata": {},
   "outputs": [],
   "source": [
    "id = ('imp', 'phi', 'phi')\n",
    "idGame = ProofGame(id, IntImpTheory)"
   ]
  },
  {
   "cell_type": "code",
   "execution_count": 206,
   "metadata": {},
   "outputs": [
    {
     "data": {
      "text/plain": [
       "[('imp', 'phi', 'phi')]"
      ]
     },
     "execution_count": 206,
     "metadata": {},
     "output_type": "execute_result"
    }
   ],
   "source": [
    "idGame.state"
   ]
  },
  {
   "cell_type": "code",
   "execution_count": 207,
   "metadata": {},
   "outputs": [
    {
     "data": {
      "text/plain": [
       "[~A0, ('imp', ~A0, ('imp', 'phi', 'phi'))]"
      ]
     },
     "execution_count": 207,
     "metadata": {},
     "output_type": "execute_result"
    }
   ],
   "source": [
    "idGame.applyRule('modusPonens')\n",
    "idGame.state"
   ]
  },
  {
   "cell_type": "code",
   "execution_count": 208,
   "metadata": {},
   "outputs": [
    {
     "data": {
      "text/plain": [
       "[~A0, ~A1, ('imp', ~A1, ('imp', ~A0, ('imp', 'phi', 'phi')))]"
      ]
     },
     "execution_count": 208,
     "metadata": {},
     "output_type": "execute_result"
    }
   ],
   "source": [
    "idGame.applyRule('modusPonens')\n",
    "idGame.state"
   ]
  },
  {
   "cell_type": "code",
   "execution_count": 209,
   "metadata": {},
   "outputs": [
    {
     "data": {
      "text/plain": [
       "[('imp', 'phi', ~B2), ('imp', 'phi', ('imp', ~B2, 'phi'))]"
      ]
     },
     "execution_count": 209,
     "metadata": {},
     "output_type": "execute_result"
    }
   ],
   "source": [
    "idGame.applyRule('frege')\n",
    "idGame.state"
   ]
  },
  {
   "cell_type": "code",
   "execution_count": 210,
   "metadata": {},
   "outputs": [
    {
     "data": {
      "text/plain": [
       "[('imp', 'phi', ~B3)]"
      ]
     },
     "execution_count": 210,
     "metadata": {},
     "output_type": "execute_result"
    }
   ],
   "source": [
    "idGame.applyRule('simplification')\n",
    "idGame.state"
   ]
  },
  {
   "cell_type": "code",
   "execution_count": 211,
   "metadata": {},
   "outputs": [
    {
     "data": {
      "text/plain": [
       "[]"
      ]
     },
     "execution_count": 211,
     "metadata": {},
     "output_type": "execute_result"
    }
   ],
   "source": [
    "idGame.applyRule('simplification')\n",
    "idGame.state"
   ]
  },
  {
   "cell_type": "code",
   "execution_count": 212,
   "metadata": {},
   "outputs": [
    {
     "data": {
      "text/plain": [
       "[([~A0, ('imp', ~A0, ~B0)], {~B0: ('imp', 'phi', 'phi')}, set()),\n",
       " ([~A0, ~A1, ('imp', ~A1, ~B1)],\n",
       "  {~B1: ('imp', ~A0, ('imp', 'phi', 'phi'))},\n",
       "  set()),\n",
       " ([~A0, ~A1],\n",
       "  {~A1: ('imp', ~A2, ('imp', ~B2, ~C2)),\n",
       "   ~A0: ('imp', ~A2, ~B2),\n",
       "   ~A2: 'phi',\n",
       "   ~C2: 'phi'},\n",
       "  set()),\n",
       " ([('imp', 'phi', ~B2)], {~A3: 'phi', ~B2: ~B3}, set()),\n",
       " ([], {~A4: 'phi', ~B3: ('imp', ~B4, ~A4)}, set())]"
      ]
     },
     "execution_count": 212,
     "metadata": {},
     "output_type": "execute_result"
    }
   ],
   "source": [
    "idGame.history"
   ]
  },
  {
   "cell_type": "code",
   "execution_count": 138,
   "metadata": {},
   "outputs": [
    {
     "data": {
      "text/plain": [
       "[('proof', ~P, ('imp', 'phi', 'phi'))]"
      ]
     },
     "execution_count": 138,
     "metadata": {},
     "output_type": "execute_result"
    }
   ],
   "source": [
    "idProofGame = ProofGame(proof(Var('P'), imp('phi', 'phi')), IntImpProofTheory)\n",
    "idProofGame.state"
   ]
  },
  {
   "cell_type": "code",
   "execution_count": 139,
   "metadata": {},
   "outputs": [
    {
     "data": {
      "text/plain": [
       "[('wff', ~A0),\n",
       " ('wff', ('imp', 'phi', 'phi')),\n",
       " ('proof', ~P0, ~A0),\n",
       " ('proof', ~Q0, ('imp', ~A0, ('imp', 'phi', 'phi')))]"
      ]
     },
     "execution_count": 139,
     "metadata": {},
     "output_type": "execute_result"
    }
   ],
   "source": [
    "idProofGame.applyRule('modusPonens')\n",
    "idProofGame.state"
   ]
  },
  {
   "cell_type": "code",
   "execution_count": 140,
   "metadata": {},
   "outputs": [
    {
     "data": {
      "text/plain": [
       "[('wff', ~A0),\n",
       " ('wff', ('imp', 'phi', 'phi')),\n",
       " ('proof', ~P0, ~A0),\n",
       " ('wff', ~A1),\n",
       " ('wff', ('imp', ~A0, ('imp', 'phi', 'phi'))),\n",
       " ('proof', ~P1, ~A1),\n",
       " ('proof', ~Q1, ('imp', ~A1, ('imp', ~A0, ('imp', 'phi', 'phi'))))]"
      ]
     },
     "execution_count": 140,
     "metadata": {},
     "output_type": "execute_result"
    }
   ],
   "source": [
    "idProofGame.applyRule('modusPonens')\n",
    "idProofGame.state"
   ]
  },
  {
   "cell_type": "code",
   "execution_count": 141,
   "metadata": {},
   "outputs": [
    {
     "data": {
      "text/plain": [
       "[('wff', ('imp', 'phi', ~B2)),\n",
       " ('wff', ('imp', 'phi', 'phi')),\n",
       " ('proof', ~P0, ('imp', 'phi', ~B2)),\n",
       " ('wff', ('imp', 'phi', ('imp', ~B2, 'phi'))),\n",
       " ('wff', ('imp', ('imp', 'phi', ~B2), ('imp', 'phi', 'phi'))),\n",
       " ('proof', ~P1, ('imp', 'phi', ('imp', ~B2, 'phi'))),\n",
       " ('wff', 'phi'),\n",
       " ('wff', ~B2),\n",
       " ('wff', 'phi')]"
      ]
     },
     "execution_count": 141,
     "metadata": {},
     "output_type": "execute_result"
    }
   ],
   "source": [
    "idProofGame.applyRule('frege')\n",
    "idProofGame.state"
   ]
  },
  {
   "cell_type": "code",
   "execution_count": 142,
   "metadata": {},
   "outputs": [
    {
     "data": {
      "text/plain": [
       "[('wff', 'phi'),\n",
       " ('wff', ~B2),\n",
       " ('wff', 'phi'),\n",
       " ('wff', ('imp', 'phi', ~B2)),\n",
       " ('wff', ('imp', 'phi', 'phi')),\n",
       " ('proof', ~P0, ('imp', 'phi', ~B2)),\n",
       " ('wff', ('imp', 'phi', ('imp', ~B2, 'phi'))),\n",
       " ('wff', ('imp', ('imp', 'phi', ~B2), ('imp', 'phi', 'phi'))),\n",
       " ('proof', ~P1, ('imp', 'phi', ('imp', ~B2, 'phi')))]"
      ]
     },
     "execution_count": 142,
     "metadata": {},
     "output_type": "execute_result"
    }
   ],
   "source": [
    "idProofGame.rotateRight()\n",
    "idProofGame.rotateRight()\n",
    "idProofGame.rotateRight()\n",
    "idProofGame.state"
   ]
  },
  {
   "cell_type": "code",
   "execution_count": 143,
   "metadata": {},
   "outputs": [
    {
     "data": {
      "text/plain": [
       "[('wff', 'phi'),\n",
       " ('wff', ~B3),\n",
       " ('wff', 'phi'),\n",
       " ('wff', ('imp', 'phi', ~B3)),\n",
       " ('wff', ('imp', 'phi', 'phi')),\n",
       " ('proof', ~P0, ('imp', 'phi', ~B3)),\n",
       " ('wff', ('imp', 'phi', ('imp', ~B3, 'phi'))),\n",
       " ('wff', ('imp', ('imp', 'phi', ~B3), ('imp', 'phi', 'phi'))),\n",
       " ('wff', 'phi'),\n",
       " ('wff', ~B3)]"
      ]
     },
     "execution_count": 143,
     "metadata": {},
     "output_type": "execute_result"
    }
   ],
   "source": [
    "idProofGame.applyRule('simplification')\n",
    "idProofGame.state"
   ]
  },
  {
   "cell_type": "code",
   "execution_count": 144,
   "metadata": {},
   "outputs": [
    {
     "data": {
      "text/plain": [
       "[('wff', ('imp', 'phi', ('imp', ~B3, 'phi'))),\n",
       " ('wff', ('imp', ('imp', 'phi', ~B3), ('imp', 'phi', 'phi'))),\n",
       " ('wff', 'phi'),\n",
       " ('wff', ~B3),\n",
       " ('wff', 'phi'),\n",
       " ('wff', ~B3),\n",
       " ('wff', 'phi'),\n",
       " ('wff', ('imp', 'phi', ~B3)),\n",
       " ('wff', ('imp', 'phi', 'phi')),\n",
       " ('proof', ~P0, ('imp', 'phi', ~B3))]"
      ]
     },
     "execution_count": 144,
     "metadata": {},
     "output_type": "execute_result"
    }
   ],
   "source": [
    "idProofGame.rotateRight()\n",
    "idProofGame.rotateRight()\n",
    "idProofGame.rotateRight()\n",
    "idProofGame.rotateRight()\n",
    "idProofGame.state"
   ]
  },
  {
   "cell_type": "code",
   "execution_count": 145,
   "metadata": {},
   "outputs": [
    {
     "data": {
      "text/plain": [
       "[('wff', ('imp', 'phi', ('imp', ('imp', ~B4, 'phi'), 'phi'))),\n",
       " ('wff', ('imp', ('imp', 'phi', ('imp', ~B4, 'phi')), ('imp', 'phi', 'phi'))),\n",
       " ('wff', 'phi'),\n",
       " ('wff', ('imp', ~B4, 'phi')),\n",
       " ('wff', 'phi'),\n",
       " ('wff', ('imp', ~B4, 'phi')),\n",
       " ('wff', 'phi'),\n",
       " ('wff', ('imp', 'phi', ('imp', ~B4, 'phi'))),\n",
       " ('wff', ('imp', 'phi', 'phi')),\n",
       " ('wff', 'phi'),\n",
       " ('wff', ~B4)]"
      ]
     },
     "execution_count": 145,
     "metadata": {},
     "output_type": "execute_result"
    }
   ],
   "source": [
    "idProofGame.applyRule('simplification')\n",
    "idProofGame.state"
   ]
  },
  {
   "cell_type": "code",
   "execution_count": 146,
   "metadata": {},
   "outputs": [
    {
     "data": {
      "text/plain": [
       "[('wff', ('imp', 'phi', ('imp', ('imp', 'phi', 'phi'), 'phi'))),\n",
       " ('wff',\n",
       "  ('imp', ('imp', 'phi', ('imp', 'phi', 'phi')), ('imp', 'phi', 'phi'))),\n",
       " ('wff', 'phi'),\n",
       " ('wff', ('imp', 'phi', 'phi')),\n",
       " ('wff', 'phi'),\n",
       " ('wff', ('imp', 'phi', 'phi')),\n",
       " ('wff', 'phi'),\n",
       " ('wff', ('imp', 'phi', ('imp', 'phi', 'phi'))),\n",
       " ('wff', ('imp', 'phi', 'phi')),\n",
       " ('wff', 'phi')]"
      ]
     },
     "execution_count": 146,
     "metadata": {},
     "output_type": "execute_result"
    }
   ],
   "source": [
    "idProofGame.applyRule('phiWff')\n",
    "idProofGame.state"
   ]
  },
  {
   "cell_type": "code",
   "execution_count": 147,
   "metadata": {},
   "outputs": [
    {
     "data": {
      "text/plain": [
       "[]"
      ]
     },
     "execution_count": 147,
     "metadata": {},
     "output_type": "execute_result"
    }
   ],
   "source": [
    "while idProofGame.state != []:\n",
    "    idProofGame.applyRule('phiWff')\n",
    "    idProofGame.applyRule('impWff')\n",
    "\n",
    "idProofGame.state"
   ]
  },
  {
   "cell_type": "code",
   "execution_count": 152,
   "metadata": {},
   "outputs": [
    {
     "data": {
      "text/plain": [
       "('proof', ~P, ('imp', 'phi', 'phi'))"
      ]
     },
     "execution_count": 152,
     "metadata": {},
     "output_type": "execute_result"
    }
   ],
   "source": [
    "idProofGame.startingState"
   ]
  },
  {
   "cell_type": "code",
   "execution_count": 153,
   "metadata": {},
   "outputs": [
    {
     "data": {
      "text/plain": [
       "('proof',\n",
       " ('mp',\n",
       "  ('imp', 'phi', ('imp', 'phi', 'phi')),\n",
       "  ('imp', 'phi', 'phi'),\n",
       "  ('simp', 'phi', 'phi'),\n",
       "  ('mp',\n",
       "   ('imp', 'phi', ('imp', ('imp', 'phi', 'phi'), 'phi')),\n",
       "   ('imp', ('imp', 'phi', ('imp', 'phi', 'phi')), ('imp', 'phi', 'phi')),\n",
       "   ('simp', 'phi', ('imp', 'phi', 'phi')),\n",
       "   ('frege', 'phi', ('imp', 'phi', 'phi'), 'phi'))),\n",
       " ('imp', 'phi', 'phi'))"
      ]
     },
     "execution_count": 153,
     "metadata": {},
     "output_type": "execute_result"
    }
   ],
   "source": [
    "idProofGame.finalState()"
   ]
  },
  {
   "cell_type": "code",
   "execution_count": 177,
   "metadata": {},
   "outputs": [],
   "source": [
    "S = lam('x', lam('y', lam('z', app(app('y','x'), app('z','x')))))\n",
    "K = lam('x', lam('y', 'x'))\n",
    "I = lam('x', 'x')\n",
    "SKIGame = ProofGame(eq(app(S, app(K, K)), I), LambdaTheory)"
   ]
  },
  {
   "cell_type": "code",
   "execution_count": 178,
   "metadata": {},
   "outputs": [
    {
     "data": {
      "text/plain": [
       "[('eq',\n",
       "  ('app',\n",
       "   ('lam',\n",
       "    'x',\n",
       "    ('lam', 'y', ('lam', 'z', ('app', ('app', 'y', 'x'), ('app', 'z', 'x'))))),\n",
       "   ('app', ('lam', 'x', ('lam', 'y', 'x')), ('lam', 'x', ('lam', 'y', 'x')))),\n",
       "  ('lam', 'x', 'x'))]"
      ]
     },
     "execution_count": 178,
     "metadata": {},
     "output_type": "execute_result"
    }
   ],
   "source": [
    "SKIGame.state"
   ]
  },
  {
   "cell_type": "code",
   "execution_count": 179,
   "metadata": {},
   "outputs": [
    {
     "data": {
      "text/plain": [
       "[('eq',\n",
       "  ('app',\n",
       "   ('app',\n",
       "    ('lam',\n",
       "     'x',\n",
       "     ('lam',\n",
       "      'y',\n",
       "      ('lam', 'z', ('app', ('app', 'y', 'x'), ('app', 'z', 'x'))))),\n",
       "    ('app', ('lam', 'x', ('lam', 'y', 'x')), ('lam', 'x', ('lam', 'y', 'x')))),\n",
       "   ~x0),\n",
       "  ('app', ('lam', 'x', 'x'), ~x0))]"
      ]
     },
     "execution_count": 179,
     "metadata": {},
     "output_type": "execute_result"
    }
   ],
   "source": [
    "SKIGame.applyRule('etaEquality')\n",
    "SKIGame.state"
   ]
  },
  {
   "cell_type": "code",
   "execution_count": 180,
   "metadata": {},
   "outputs": [
    {
     "data": {
      "text/plain": [
       "[('eq',\n",
       "  ('app',\n",
       "   ('app',\n",
       "    ('lam',\n",
       "     'x',\n",
       "     ('lam',\n",
       "      'y',\n",
       "      ('lam', 'z', ('app', ('app', 'y', 'x'), ('app', 'z', 'x'))))),\n",
       "    ('app', ('lam', 'x', ('lam', 'y', 'x')), ('lam', 'x', ('lam', 'y', 'x')))),\n",
       "   ~x0),\n",
       "  ~B1),\n",
       " ('eq', ~B1, ('app', ('lam', 'x', 'x'), ~x0))]"
      ]
     },
     "execution_count": 180,
     "metadata": {},
     "output_type": "execute_result"
    }
   ],
   "source": [
    "SKIGame.applyRule('transitivity')\n",
    "SKIGame.state"
   ]
  },
  {
   "cell_type": "code",
   "execution_count": 181,
   "metadata": {},
   "outputs": [
    {
     "data": {
      "text/plain": [
       "[('eq',\n",
       "  ('app',\n",
       "   ('app',\n",
       "    ('lam',\n",
       "     'x',\n",
       "     ('lam',\n",
       "      'y',\n",
       "      ('lam', 'z', ('app', ('app', 'y', 'x'), ('app', 'z', 'x'))))),\n",
       "    ('app', ('lam', 'x', ('lam', 'y', 'x')), ('lam', 'x', ('lam', 'y', 'x')))),\n",
       "   ~x0),\n",
       "  ~A2),\n",
       " ('eq', ('app', ('lam', 'x', 'x'), ~x0), ~A2)]"
      ]
     },
     "execution_count": 181,
     "metadata": {},
     "output_type": "execute_result"
    }
   ],
   "source": [
    "SKIGame.applyRule('symmetry')\n",
    "SKIGame.state"
   ]
  },
  {
   "cell_type": "code",
   "execution_count": null,
   "metadata": {},
   "outputs": [],
   "source": []
  },
  {
   "cell_type": "code",
   "execution_count": 182,
   "metadata": {},
   "outputs": [
    {
     "data": {
      "text/plain": [
       "[('eq',\n",
       "  ('app',\n",
       "   ('app',\n",
       "    ('lam',\n",
       "     'x',\n",
       "     ('lam',\n",
       "      'y',\n",
       "      ('lam', 'z', ('app', ('app', 'y', 'x'), ('app', 'z', 'x'))))),\n",
       "    ('app', ('lam', 'x', ('lam', 'y', 'x')), ('lam', 'x', ('lam', 'y', 'x')))),\n",
       "   ~B3),\n",
       "  ~B3)]"
      ]
     },
     "execution_count": 182,
     "metadata": {},
     "output_type": "execute_result"
    }
   ],
   "source": [
    "SKIGame.applyRule('beta1')\n",
    "SKIGame.state"
   ]
  },
  {
   "cell_type": "code",
   "execution_count": 190,
   "metadata": {},
   "outputs": [
    {
     "data": {
      "text/plain": [
       "[('eq',\n",
       "  ('app',\n",
       "   ('app',\n",
       "    ('lam',\n",
       "     'x',\n",
       "     ('lam',\n",
       "      'y',\n",
       "      ('lam', 'z', ('app', ('app', 'y', 'x'), ('app', 'z', 'x'))))),\n",
       "    ('app', ('lam', 'x', ('lam', 'y', 'x')), ('lam', 'x', ('lam', 'y', 'x')))),\n",
       "   ~C11),\n",
       "  ~B11),\n",
       " ('eq', ~B11, ~C11)]"
      ]
     },
     "execution_count": 190,
     "metadata": {},
     "output_type": "execute_result"
    }
   ],
   "source": [
    "SKIGame.applyRule('transitivity')\n",
    "SKIGame.state"
   ]
  },
  {
   "cell_type": "code",
   "execution_count": 191,
   "metadata": {},
   "outputs": [
    {
     "data": {
      "text/plain": [
       "[('eq', ~B11, ~C11),\n",
       " ('eq',\n",
       "  ('app',\n",
       "   ('app',\n",
       "    ('lam',\n",
       "     'x',\n",
       "     ('lam',\n",
       "      'y',\n",
       "      ('lam', 'z', ('app', ('app', 'y', 'x'), ('app', 'z', 'x'))))),\n",
       "    ('app', ('lam', 'x', ('lam', 'y', 'x')), ('lam', 'x', ('lam', 'y', 'x')))),\n",
       "   ~C11),\n",
       "  ~B11)]"
      ]
     },
     "execution_count": 191,
     "metadata": {},
     "output_type": "execute_result"
    }
   ],
   "source": [
    "SKIGame.rotateRight()\n",
    "SKIGame.state"
   ]
  },
  {
   "cell_type": "code",
   "execution_count": 196,
   "metadata": {},
   "outputs": [
    {
     "data": {
      "text/plain": [
       "[('eq', ~B11, ~C11),\n",
       " ('eq',\n",
       "  ('app',\n",
       "   ('app',\n",
       "    ('lam',\n",
       "     'x',\n",
       "     ('lam',\n",
       "      'y',\n",
       "      ('lam', 'z', ('app', ('app', 'y', 'x'), ('app', 'z', 'x'))))),\n",
       "    ('app', ('lam', 'x', ('lam', 'y', 'x')), ('lam', 'x', ('lam', 'y', 'x')))),\n",
       "   ~C11),\n",
       "  ~B11)]"
      ]
     },
     "execution_count": 196,
     "metadata": {},
     "output_type": "execute_result"
    }
   ],
   "source": [
    "SKIGame.applyRule('beta1')\n",
    "SKIGame.state"
   ]
  },
  {
   "cell_type": "code",
   "execution_count": 174,
   "metadata": {},
   "outputs": [
    {
     "data": {
      "text/plain": [
       "[('ev', 'x'),\n",
       " ('exp', ~B3),\n",
       " ('ev', ~B3),\n",
       " ('eq',\n",
       "  ('app',\n",
       "   ('app',\n",
       "    ('lam',\n",
       "     'x',\n",
       "     ('lam',\n",
       "      'y',\n",
       "      ('lam', 'z', ('app', ('app', 'y', 'x'), ('app', 'z', 'x'))))),\n",
       "    ('app', ('lam', 'x', ('lam', 'y', 'x')), ('lam', 'x', ('lam', 'y', 'x')))),\n",
       "   ~B3),\n",
       "  ~B3)]"
      ]
     },
     "execution_count": 174,
     "metadata": {},
     "output_type": "execute_result"
    }
   ],
   "source": [
    "SKIGame.rotateRight()\n",
    "SKIGame.rotateRight()\n",
    "SKIGame.state"
   ]
  },
  {
   "cell_type": "code",
   "execution_count": 175,
   "metadata": {},
   "outputs": [
    {
     "data": {
      "text/plain": [
       "[(~A0, ~x0), (~B0, ~x0)]"
      ]
     },
     "execution_count": 175,
     "metadata": {},
     "output_type": "execute_result"
    }
   ],
   "source": [
    "SKIGame.DVSC"
   ]
  },
  {
   "cell_type": "code",
   "execution_count": null,
   "metadata": {},
   "outputs": [],
   "source": [
    "    'varExp': self.varExp,\n",
    "                      'xEv': self.xEv,\n",
    "                      'yEv': self.yEv,\n",
    "                      'zEv': self.zEv,\n",
    "                      'uEv': self.uEv,\n",
    "                      'vEv': self.vEv,\n",
    "                      'wEv': self.wEv,\n",
    "                      'XEv': self.XEv,\n",
    "                      'YEv': self.YEv,\n",
    "                      'ZEv': self.ZEv,\n",
    "                      'UEv': self.UEv,\n",
    "                      'VEv': self.VEv,\n",
    "                      'WEv': self.WEv,\n",
    "                      'lamExp': self.lamExp,\n",
    "                      'appExp': self.appExp,\n",
    "                      'transitivity': self.transitivity,\n",
    "                      'equalityOfApplication': self.equalityOfApplication,\n",
    "                      'equalityOfLambdas': self.equalityOfLambdas,\n",
    "                      'etaEquality': self.etaEquality,\n",
    "                      'beta1': self.beta1,\n",
    "                      'beta2': self.beta2,\n",
    "                      'beta3': self.beta3,\n",
    "                      'beta4': self.beta4,\n",
    "                      'beta5': self.beta5"
   ]
  }
 ],
 "metadata": {
  "kernelspec": {
   "display_name": "Python 3",
   "language": "python",
   "name": "python3"
  },
  "language_info": {
   "codemirror_mode": {
    "name": "ipython",
    "version": 3
   },
   "file_extension": ".py",
   "mimetype": "text/x-python",
   "name": "python",
   "nbconvert_exporter": "python",
   "pygments_lexer": "ipython3",
   "version": "3.7.3"
  }
 },
 "nbformat": 4,
 "nbformat_minor": 4
}
